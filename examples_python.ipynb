{
 "cells": [
  {
   "cell_type": "markdown",
   "metadata": {},
   "source": [
    "# Data Visualization & Formatting\n",
    "Examples to go along with the workshop on Data Visualization & Formatting."
   ]
  },
  {
   "cell_type": "code",
   "execution_count": null,
   "metadata": {},
   "outputs": [],
   "source": [
    "# load required packages\n",
    "import numpy as np\n",
    "import matplotlib.pyplot as plt\n",
    "%matplotlib inline"
   ]
  },
  {
   "cell_type": "markdown",
   "metadata": {},
   "source": [
    "# 1) Line plot"
   ]
  },
  {
   "cell_type": "code",
   "execution_count": null,
   "metadata": {},
   "outputs": [],
   "source": [
    "# generate data for the plot\n",
    "t = np.linspace(0, 8 * np.pi, 1000)\n",
    "\n",
    "# model 1\n",
    "x1 = np.sin(0.1 * t)\n",
    "x2 = np.sin(0.2 * t)\n",
    "x3 = np.sin(0.3 * t)\n",
    "\n",
    "# model 2\n",
    "y1 = np.cos(0.1 * t)\n",
    "y2 = np.cos(0.2 * t)\n",
    "y3 = np.cos(0.3 * t)"
   ]
  },
  {
   "cell_type": "markdown",
   "metadata": {},
   "source": [
    "## Bad version"
   ]
  },
  {
   "cell_type": "code",
   "execution_count": null,
   "metadata": {},
   "outputs": [],
   "source": [
    "# plot as lines using the defaults\n",
    "plt.plot(t, x1, label='Model 1 (f=0.1)')\n",
    "plt.plot(t, x2, label='Model 1 (f=0.2)')\n",
    "plt.plot(t, x3, label='Model 1 (f=0.3)')\n",
    "plt.plot(t, y1, label='Model 2 (f=0.1)')\n",
    "plt.plot(t, y2, label='Model 2 (f=0.2)')\n",
    "plt.plot(t, y3, label='Model 2 (f=0.3)')\n",
    "\n",
    "# add the legend\n",
    "plt.legend()\n",
    "\n",
    "# save as  PDF\n",
    "plt.savefig('lines_bad.pdf', bbox_inches='tight')\n",
    "plt.close()"
   ]
  },
  {
   "cell_type": "markdown",
   "metadata": {},
   "source": [
    "## Better version"
   ]
  },
  {
   "cell_type": "code",
   "execution_count": null,
   "metadata": {},
   "outputs": [],
   "source": [
    "# set the figure size explicitly\n",
    "plt.figure(figsize=(6, 4))\n",
    "\n",
    "# use solid lines for model 1\n",
    "plt.plot(t, x1, label='Model 1 (f=0.1)', c='0.0', ls='-')\n",
    "plt.plot(t, x2, label='Model 1 (f=0.2)', c='#00557F', ls='-')\n",
    "plt.plot(t, x3, label='Model 1 (f=0.3)', c='#00AAFF', ls='-')\n",
    "\n",
    "# use dashed lines for model 1\n",
    "plt.plot(t, y1, label='Model 2 (f=0.1)', c='0.0', ls='--')\n",
    "plt.plot(t, y2, label='Model 2 (f=0.2)', c='#00557F', ls='--',)\n",
    "plt.plot(t, y3, label='Model 2 (f=0.3)', c='#00AAFF', ls='--')\n",
    "\n",
    "# add the legend\n",
    "plt.legend()\n",
    "\n",
    "# make axis ranges tighter (i.e. remove empty space)\n",
    "plt.autoscale(enable=True, axis='both', tight=True)\n",
    "\n",
    "# save as PDF\n",
    "plt.savefig('lines_better.pdf', bbox_inches='tight')\n",
    "plt.close()"
   ]
  },
  {
   "cell_type": "markdown",
   "metadata": {},
   "source": [
    "# 2) Scatter plot"
   ]
  },
  {
   "cell_type": "code",
   "execution_count": null,
   "metadata": {},
   "outputs": [],
   "source": [
    "# generate data for the plot\n",
    "n = 10\n",
    "x1 = np.linspace(0, 1, n)\n",
    "x2 = np.linspace(0, 1, n)\n",
    "x3 = np.linspace(0, 1, n)\n",
    "\n",
    "y1 = x1 + 0.5 * np.random.randn(n)\n",
    "y2 = x2 + 0.5 * np.random.randn(n)\n",
    "y3 = x3 + 0.5 * np.random.randn(n)"
   ]
  },
  {
   "cell_type": "markdown",
   "metadata": {},
   "source": [
    "## Bad version"
   ]
  },
  {
   "cell_type": "code",
   "execution_count": null,
   "metadata": {},
   "outputs": [],
   "source": [
    "# plot with the defaults\n",
    "plt.scatter(x1, y1, label='Scenario 1')\n",
    "plt.scatter(x2, y2, label='Scenario 2')\n",
    "plt.scatter(x3, y3, label='Scenario 3')\n",
    "\n",
    "# add axis labels\n",
    "plt.xlabel('x')\n",
    "plt.ylabel('y')\n",
    "\n",
    "# add the legend\n",
    "plt.legend()\n",
    "\n",
    "# save as PNG\n",
    "plt.savefig('scatter_bad.png', bbox_inches='tight')\n",
    "plt.close()"
   ]
  },
  {
   "cell_type": "code",
   "execution_count": null,
   "metadata": {},
   "outputs": [],
   "source": [
    "# set the figure size explicitly\n",
    "plt.figure(figsize=(6, 4))\n",
    "\n",
    "# use marker, color and size to distinguish between groups\n",
    "plt.scatter(x1, y1, label='Scenario 1', marker='o', s=50, facecolor='r')\n",
    "plt.scatter(x2, y2, label='Scenario 2', marker='s', s=50, facecolor='w', edgecolor='k')\n",
    "plt.scatter(x3, y3, label='Scenario 3', marker='^', s=50, facecolor='0.7', edgecolor='k')\n",
    "\n",
    "# add axis labels\n",
    "plt.xlabel('x')\n",
    "plt.ylabel('y')\n",
    "\n",
    "# add the legend\n",
    "plt.legend()\n",
    "\n",
    "# save as PNG with higher DPI\n",
    "plt.savefig('scatter_better.png', dpi=300, bbox_inches='tight')\n",
    "plt.close()"
   ]
  },
  {
   "cell_type": "markdown",
   "metadata": {},
   "source": [
    "# 3) Colormap plot"
   ]
  },
  {
   "cell_type": "code",
   "execution_count": null,
   "metadata": {},
   "outputs": [],
   "source": [
    "# generate data for the plot\n",
    "n = 10000\n",
    "x = np.random.standard_normal(n)\n",
    "y = 2.0 + 3.0 * x + 4.0 * np.random.standard_normal(n)"
   ]
  },
  {
   "cell_type": "markdown",
   "metadata": {},
   "source": [
    "# Bad plot"
   ]
  },
  {
   "cell_type": "code",
   "execution_count": null,
   "metadata": {},
   "outputs": [],
   "source": [
    "# basic plot\n",
    "plt.figure(figsize=(6, 4))\n",
    "plt.hexbin(x, y, cmap='jet')\n",
    "\n",
    "# add colorbar for reference\n",
    "plt.colorbar()\n",
    "\n",
    "# remove extra whitespace\n",
    "plt.autoscale(enable=True, axis='both', tight=True)\n",
    "\n",
    "# save as PDF\n",
    "plt.savefig('colormap_bad.pdf', bbox_inches='tight')\n",
    "plt.close()"
   ]
  },
  {
   "cell_type": "markdown",
   "metadata": {},
   "source": [
    "## Better plot"
   ]
  },
  {
   "cell_type": "code",
   "execution_count": null,
   "metadata": {},
   "outputs": [],
   "source": [
    "# better plot\n",
    "plt.figure(figsize=(6, 4))\n",
    "plt.hexbin(x, y, gridsize=50, cmap='plasma')\n",
    "\n",
    "# add colorbar for reference\n",
    "plt.colorbar()\n",
    "\n",
    "# add labels (with LaTeX)\n",
    "plt.xlabel(r'$\\nu$')\n",
    "plt.ylabel(r'$\\beta_{1,2}(\\nu)$')\n",
    "\n",
    "# remove extra whitespace\n",
    "plt.autoscale(enable=True, axis='both', tight=True)\n",
    "\n",
    "# save as PDF\n",
    "plt.savefig('colormap_better.pdf', bbox_inches='tight')\n",
    "plt.close()"
   ]
  }
 ],
 "metadata": {
  "kernelspec": {
   "display_name": "Python 3",
   "language": "python",
   "name": "python3"
  },
  "language_info": {
   "codemirror_mode": {
    "name": "ipython",
    "version": 3
   },
   "file_extension": ".py",
   "mimetype": "text/x-python",
   "name": "python",
   "nbconvert_exporter": "python",
   "pygments_lexer": "ipython3",
   "version": "3.6.4"
  }
 },
 "nbformat": 4,
 "nbformat_minor": 2
}
